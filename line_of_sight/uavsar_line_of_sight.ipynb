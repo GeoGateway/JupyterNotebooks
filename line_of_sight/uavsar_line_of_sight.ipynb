{
 "cells": [
  {
   "cell_type": "markdown",
   "id": "cb083731-8798-45c2-86e8-b2c49f837841",
   "metadata": {},
   "source": [
    "# UAVSAR Line of Sight\n",
    "\n",
    "Brian Hawkins, Jet Propulsion Laboratory, California Institute of Technology\n",
    "\n",
    "This notebook demonstrates how to compute the line-of-sight vector for each pixel of a UAVSAR RPI GRD product. Similar data can be downloaded from the UAVSAR webpage at\n",
    "\n",
    "https://uavsar.jpl.nasa.gov/cgi-bin/product.pl?jobName=SanAnd_08515_09015-000_17104-002_3079d_s01_L090_01#data\n",
    "\n",
    "The crux of the problem is to determine the effective radar imaging time given a target location. This depends on the Doppler centroid used for processing, the technical details of which are described in the paper\n",
    "\n",
    "> S. Hensley _et al._, \"Residual motion estimation for UAVSAR: Implications of an electronically scanned array,\" 2009 IEEE Radar Conference, 2009, pp. 1-5, doi: 10.1109/RADAR.2009.4977065.\n",
    "\n",
    "available for download [here](https://ieeexplore.ieee.org/document/4977065).  That paper and UAVSAR product definitions both make extensive use of the JPL \"SCH\" coordinate system described in the memo\n",
    "\n",
    "> S. Hensley, \"SCH Coordinates and Various Transformations\", JPL Inter Office Memorandum, June 15, 2000."
   ]
  },
  {
   "cell_type": "code",
   "execution_count": 1,
   "id": "b27f529b-a601-4b68-962c-bb602390928f",
   "metadata": {},
   "outputs": [],
   "source": [
    "import angler  # JPL proprietary\n",
    "import logging as log\n",
    "import matplotlib.pyplot as p\n",
    "import numpy as np\n",
    "from numpy import sin, cos, sqrt  # save a little typing\n",
    "import os\n",
    "import rdf  # JPL proprietary\n",
    "import scipy.optimize as opt\n",
    "import subprocess as sub\n",
    "import sys\n",
    "\n",
    "log.basicConfig(level=log.DEBUG, stream=sys.stdout)"
   ]
  },
  {
   "cell_type": "code",
   "execution_count": 2,
   "id": "28ec409d-2d90-4464-be8b-98703d661548",
   "metadata": {},
   "outputs": [],
   "source": [
    "os.chdir(\"los\")\n",
    "ann = rdf.open(\"SanAnd_08515_09015-000_17104-002_3079d_s01_L090HH_02.ann\")"
   ]
  },
  {
   "cell_type": "code",
   "execution_count": 3,
   "id": "18532a78-2be1-48a3-9b72-16184fa3f5c3",
   "metadata": {},
   "outputs": [],
   "source": [
    "# Read radar geometry parameters from annotation file.\n",
    "peglat = float(ann.get(\"Peg Latitude\", \"deg\"))\n",
    "peglon = float(ann.get(\"Peg Longitude\", \"deg\"))\n",
    "peghdg = float(ann.get(\"Peg Heading\", \"deg\"))\n",
    "coff = float(ann.get(\"Cross Track Offset From Reference Track\", \"m\"))\n",
    "alt = float(ann.get(\"Global Average Altitude\", \"m\"))\n",
    "ht = float(ann.get(\"Global Average Terrain Height\", \"m\"))\n",
    "yaw = np.deg2rad(float(ann.get(\"Global Average Yaw\", \"deg\")))\n",
    "pitch = np.deg2rad(float(ann.get(\"Global Average Pitch\", \"deg\")))\n",
    "esa = np.deg2rad(float(ann.get(\"Global Average ESA\", \"deg\")))\n",
    "smin = float(ann.get(\"Slant Range Data Starting Azimuth\", \"m\"))\n",
    "ds = float(ann.get(\"Slant Range Data Azimuth Spacing\", \"m\"))\n",
    "ns = int(ann.get(\"slt.set_rows\"))\n",
    "smax = smin + ds * ns"
   ]
  },
  {
   "cell_type": "code",
   "execution_count": 4,
   "id": "23754e0b-6c40-4dfa-bf7d-41a51438b862",
   "metadata": {},
   "outputs": [],
   "source": [
    "class RadarLocator:\n",
    "    def __init__(self, coord: angler.SchCoordinates, coff=0.0, alt=12500.):\n",
    "        \"\"\"\n",
    "        Radar reference track defined by constant cross-track (C)\n",
    "        and vertical (H) offset from SCH peg point.\n",
    "        \"\"\"\n",
    "        self.coord = coord\n",
    "        self.c = coff\n",
    "        self.h = alt\n",
    "        \n",
    "    def get_xyz(self, s):\n",
    "        \"\"\"Return radar ECEF XYZ position as a function of azimuth `s` coordinate (meters).\n",
    "        \"\"\"\n",
    "        return self.coord.to_xyz((s, self.c, self.h))\n",
    "\n",
    "coord = angler.SchCoordinates(peglat, peglon, peghdg)\n",
    "radar = RadarLocator(coord, coff, alt)"
   ]
  },
  {
   "cell_type": "code",
   "execution_count": 5,
   "id": "fcee50dd-5b39-417c-9668-5a0e38d423dc",
   "metadata": {},
   "outputs": [],
   "source": [
    "# Read target geometry parameters from annotation file.\n",
    "lat0 = float(ann.get(\"grd.row_addr\", \"deg\"))\n",
    "lon0 = float(ann.get(\"grd.col_addr\", \"deg\"))\n",
    "dlat = float(ann.get(\"grd.row_mult\", \"deg/pixel\"))\n",
    "dlon = float(ann.get(\"grd.col_mult\", \"deg/pixel\"))\n",
    "dem_fn = ann.get(\"DEM Used in Ground Projection\")\n",
    "nlon = int(ann.get(\"grd.set_cols\"))\n",
    "nlat = int(ann.get(\"grd.set_rows\"))\n",
    "# Load digital elevation model.\n",
    "dem = np.memmap(dem_fn, dtype=\"f4\", shape=(nlat, nlon), mode=\"r\")"
   ]
  },
  {
   "cell_type": "code",
   "execution_count": 6,
   "id": "8b3716c8-9fab-4f4d-a720-ff2e0062909f",
   "metadata": {},
   "outputs": [],
   "source": [
    "class TargetLocator:\n",
    "    def __init__(self, lat0, lon0, dlat, dlon, dem=None):\n",
    "        \"\"\"\n",
    "        GRD product geometry, parameters: lat/lon origin and spacing, all in degrees.\n",
    "        Optional digital elevation model is 2D array with same dimensions as GRD product,\n",
    "        contains height (in meters) for each pixel.\n",
    "        \"\"\"\n",
    "        self.lat0 = lat0\n",
    "        self.lon0 = lon0\n",
    "        self.dlat = dlat\n",
    "        self.dlon = dlon\n",
    "        self.dem = dem\n",
    "        \n",
    "    def get_xyz(self, i, j):\n",
    "        \"\"\"Return target ECEF XYZ position as a function of GRD pixel row & column coordinates.\n",
    "        \"\"\"\n",
    "        lat = self.lat0 + i * self.dlat\n",
    "        lon = self.lon0 + j * self.dlon\n",
    "        h = dem[i,j] if dem is not None else 0.0\n",
    "        return angler.llh_to_xyz((lat, lon, h))\n",
    "\n",
    "target = TargetLocator(lat0, lon0, dlat, dlon, dem)"
   ]
  },
  {
   "cell_type": "code",
   "execution_count": 7,
   "id": "03c2f0d7-cdd5-492d-82bf-7c877f211f74",
   "metadata": {},
   "outputs": [],
   "source": [
    "def find_look_vector(target_xyz, radar: RadarLocator, yaw=0.0, pitch=0.0, esa=0.0,\n",
    "                     smin=-200e3, smax=200e3, tol=1e-4):\n",
    "    \"\"\"\n",
    "    Parameters\n",
    "    ----------\n",
    "    target_xyz : array_like\n",
    "        Position of target in ECEF XYZ (meters)\n",
    "    radar : RadarLocator\n",
    "        Class describing UAVSAR reference trajectory\n",
    "    yaw : float\n",
    "        Yaw angle (radians)\n",
    "    pitch : float\n",
    "        Pitch angle (radians)\n",
    "    esa : float\n",
    "        Electronic steering angle (radians)\n",
    "    smin : float\n",
    "    smax : float\n",
    "        Azimuth interval to search for radar position (meters)\n",
    "    tol : float\n",
    "        Tolerance for azimuth convergence (meters)\n",
    "        \n",
    "    Returns\n",
    "    -------\n",
    "    look_xyz : array_like\n",
    "        Line of sight vector (radar-to-target, in meters).\n",
    "    \"\"\"\n",
    "    target_xyz = np.asarray(target_xyz)\n",
    "    # Find vector parallel to long axis of radar antenna, \"nhat\" in UAVSAR docs.\n",
    "    # This is Equation (7) in Scott's paper.\n",
    "    rot_yaw = angler.rotation_matrix(yaw, \"z\")\n",
    "    rot_pitch = angler.rotation_matrix(pitch, \"y\")\n",
    "    nhat_sch = rot_yaw.dot(rot_pitch).dot([1, 0, 0])\n",
    "    # Compute look vector between target and radar given azimuth coordinate.\n",
    "    def get_look_xyz(s):\n",
    "        sch = [s, radar.c, radar.h]\n",
    "        return target_xyz - radar.coord.to_xyz(sch)\n",
    "    # Function of azimuth that's zero when target crosses beam center.\n",
    "    def squint_error(s):\n",
    "        look_xyz = get_look_xyz(s)\n",
    "        unit_look_xyz = look_xyz / np.linalg.norm(look_xyz)\n",
    "        # Need to rotate into local sch frame.\n",
    "        sch = [s, radar.c, radar.h]\n",
    "        unit_look_sch = radar.coord.local_cartesian_from_xyz(unit_look_xyz, origin_sch=sch)\n",
    "        log.debug(f\"look_sch = {np.array(unit_look_sch) * np.linalg.norm(look_xyz)}\")\n",
    "        # Equation (8) in Scott's paper\n",
    "        return nhat_sch.dot(unit_look_sch) - np.sin(esa)\n",
    "    # Find the root of above equation to get azimuth.\n",
    "    sol = opt.root_scalar(squint_error, bracket=[smin, smax], xtol=tol)\n",
    "    return get_look_xyz(sol.root)"
   ]
  },
  {
   "cell_type": "code",
   "execution_count": 8,
   "id": "b1c6ecc3-7712-4ac4-af14-ad4343acbe3f",
   "metadata": {},
   "outputs": [
    {
     "data": {
      "text/plain": [
       "(33.47256647999999, -116.49204084000002, 1276.1429443361124)"
      ]
     },
     "execution_count": 8,
     "metadata": {},
     "output_type": "execute_result"
    }
   ],
   "source": [
    "# Demonstrate with target in the middle of the GRD product.\n",
    "# Note that not all GRD pixels have radar data or valid geometry.\n",
    "i, j = nlat // 2, nlon // 2\n",
    "target_xyz = target.get_xyz(i, j)\n",
    "target_llh = angler.xyz_to_llh(target_xyz)\n",
    "target_llh"
   ]
  },
  {
   "cell_type": "code",
   "execution_count": 9,
   "id": "9431f17d-f726-4f20-8c98-52ed17f2ea7e",
   "metadata": {},
   "outputs": [
    {
     "name": "stdout",
     "output_type": "stream",
     "text": [
      "DEBUG:root:look_sch = [197830.12031675  15598.44238152 -14303.88836043]\n",
      "DEBUG:root:look_sch = [-202183.17902088   15598.44238152  -14440.29793992]\n",
      "DEBUG:root:look_sch = [ -8235.66398132  15598.44238152 -11244.04843455]\n",
      "DEBUG:root:look_sch = [ 87236.86494618  15598.44238152 -11834.65099691]\n",
      "DEBUG:root:look_sch = [ 18517.16890679  15598.44238152 -11265.58568805]\n",
      "DEBUG:root:look_sch = [  1308.63866702  15598.44238152 -11238.87172351]\n",
      "DEBUG:root:look_sch = [  -123.01198736  15598.44238152 -11238.73881653]\n",
      "DEBUG:root:look_sch = [   -16.60317672  15598.44238152 -11238.73765328]\n",
      "DEBUG:root:look_sch = [   -16.7052778   15598.44238152 -11238.73765355]\n",
      "DEBUG:root:look_sch = [   -16.70522779  15598.44238152 -11238.73765355]\n"
     ]
    },
    {
     "data": {
      "text/plain": [
       "array([ 6931.581941  , 16585.47232093,  6818.81129876])"
      ]
     },
     "execution_count": 9,
     "metadata": {},
     "output_type": "execute_result"
    }
   ],
   "source": [
    "look_xyz = find_look_vector(target_xyz, radar, yaw, pitch, esa)\n",
    "look_xyz"
   ]
  },
  {
   "cell_type": "code",
   "execution_count": 10,
   "id": "fbf9685c-8610-4a99-9059-97cbedff3b06",
   "metadata": {},
   "outputs": [
    {
     "data": {
      "text/plain": [
       "array([ -1194.59908734,  15580.25321349, -11200.42636087])"
      ]
     },
     "execution_count": 10,
     "metadata": {},
     "output_type": "execute_result"
    }
   ],
   "source": [
    "enu2xyz = angler.enu2xyz_matrix(target_llh[0], target_llh[1])\n",
    "look_enu = enu2xyz.transpose() @ look_xyz\n",
    "look_enu"
   ]
  },
  {
   "cell_type": "code",
   "execution_count": 11,
   "id": "61e109a7-8ac9-4246-8a27-99670d412e02",
   "metadata": {
    "tags": []
   },
   "outputs": [
    {
     "data": {
      "text/plain": [
       "-11219.599755663889"
      ]
     },
     "execution_count": 11,
     "metadata": {},
     "output_type": "execute_result"
    }
   ],
   "source": [
    "# Sanity check: up component should be roughly target height minus radar height.\n",
    "# Not exact equality due to curvature of surface and reference track.\n",
    "target_llh[2] - alt"
   ]
  },
  {
   "cell_type": "code",
   "execution_count": 12,
   "id": "d2907175-a6c3-45f4-93da-2cd2aabcb576",
   "metadata": {},
   "outputs": [
    {
     "data": {
      "text/plain": [
       "19225.527504885365"
      ]
     },
     "execution_count": 12,
     "metadata": {},
     "output_type": "execute_result"
    }
   ],
   "source": [
    "# The norm of the look vector is the range to the target.\n",
    "ρ = np.linalg.norm(look_xyz)\n",
    "ρ"
   ]
  },
  {
   "cell_type": "markdown",
   "id": "51e47ace-6cc0-4c37-8374-d8bac7d982a4",
   "metadata": {},
   "source": [
    "## Compare with `make_geolook`\n",
    "\n",
    "Scott Hensley (and contributors) wrote a Fortran program named `make_geolook` that implements these look vector and related calculations.  Below we'll configure its input file, run the program, and compare its output with the above."
   ]
  },
  {
   "cell_type": "code",
   "execution_count": 13,
   "id": "c2bd8fbd-49bf-4ac6-8765-d079dd958de0",
   "metadata": {},
   "outputs": [],
   "source": [
    "# Update template config file with metadata from annotation file.\n",
    "cfg = rdf.load(\"mgl_template.rdf\")"
   ]
  },
  {
   "cell_type": "code",
   "execution_count": 14,
   "id": "3928b645-9b53-4220-871d-a6d053a70fd2",
   "metadata": {},
   "outputs": [],
   "source": [
    "cfg.set(\"Null Identification File\", dem_fn)\n",
    "cfg.set(\"Number of Samples and Lines for Scene\", (nlon, nlat))\n",
    "cfg.set(\"Corner Latitude and Longtitude for Scene\", (lat0, lon0), \"deg\")\n",
    "cfg.set(\"Latitude amd Longitude Pixel Spacings\", (dlat, dlon), \"deg\")\n",
    "cfg.set(\"Peg Latitude, Longtitude and Heading\", (peglat, peglon, peghdg), \"deg\")\n",
    "yawd, pitchd, esad = np.rad2deg([yaw, pitch, esa])\n",
    "cfg.set(\"Global Averaged Yaw, Pitch and Azimuth Steering Angle\", (yawd, pitchd, esad), \"deg\")\n",
    "cfg.set(\"Global Averaged Platform Altitude\", alt, \"m\")\n",
    "cfg.set(\"Global Terrain Height for Scene\", ht, \"m\")\n",
    "\n",
    "cfg_fn = \"mgl_config.rdf\"\n",
    "cfg.write(cfg_fn)"
   ]
  },
  {
   "cell_type": "code",
   "execution_count": 15,
   "id": "970f0564-18ff-4ca1-aee0-5f383af51d6b",
   "metadata": {},
   "outputs": [
    {
     "name": "stdout",
     "output_type": "stream",
     "text": [
      "using cached make_geolook result\n"
     ]
    }
   ],
   "source": [
    "# Output files have fixed names but you can specify a prefix.\n",
    "prefix = \"mgl\"\n",
    "los_fn = f\"{prefix}_enulos.dat\"\n",
    "\n",
    "if not os.path.exists(los_fn):\n",
    "    sub.run([\"make_geolook\", cfg_fn, \"1\", prefix, dem_fn], check=True)\n",
    "else:\n",
    "    print(\"using cached make_geolook result\")"
   ]
  },
  {
   "cell_type": "code",
   "execution_count": 16,
   "id": "bf2bd338-38b1-4e05-b15d-c713b7e5a065",
   "metadata": {},
   "outputs": [
    {
     "name": "stdout",
     "output_type": "stream",
     "text": [
      "make_geolook ENU LOS (m) = [ -1179.00989758  15581.43171718 -11200.42636919]\n"
     ]
    }
   ],
   "source": [
    "los = np.memmap(los_fn, dtype=\"float64\")\n",
    "los.shape = nlat, nlon, 3\n",
    "print(\"make_geolook ENU LOS (m) =\", los[i,j])"
   ]
  },
  {
   "cell_type": "code",
   "execution_count": 17,
   "id": "848c4b5d-d378-4a11-965b-5a8560c66134",
   "metadata": {},
   "outputs": [
    {
     "name": "stdout",
     "output_type": "stream",
     "text": [
      "simple ENU LOS (m) = [ -1194.59908734  15580.25321349 -11200.42636087]\n"
     ]
    }
   ],
   "source": [
    "print(\"simple ENU LOS (m) =\", look_enu)"
   ]
  },
  {
   "cell_type": "code",
   "execution_count": 18,
   "id": "a8486eae-1199-458d-97c8-f32ed1c431f7",
   "metadata": {},
   "outputs": [
    {
     "name": "stdout",
     "output_type": "stream",
     "text": [
      "LOS difference s (m) = 15.633672251318385\n",
      "LOS difference c (m) = 1.7187097085479471e-06\n",
      "LOS difference h (m) = 1.910407010093331e-05\n"
     ]
    }
   ],
   "source": [
    "platform_xyz = target_xyz - look_xyz\n",
    "platform_sch = radar.coord.from_xyz(platform_xyz)\n",
    "xyz2sch = radar.coord.local_cartesian_matrix(platform_sch)\n",
    "dlook_sch = xyz2sch @ enu2xyz @ (los[i,j] - look_enu)\n",
    "for k, ax in enumerate(\"sch\"):\n",
    "    print(f\"LOS difference {ax} (m) =\", dlook_sch[k])"
   ]
  },
  {
   "cell_type": "code",
   "execution_count": 19,
   "id": "41b798fb-96e0-4f84-9da2-16f59a900bbf",
   "metadata": {},
   "outputs": [
    {
     "name": "stdout",
     "output_type": "stream",
     "text": [
      "angular difference (deg) = 0.04659136324779652\n"
     ]
    }
   ],
   "source": [
    "u1 = los[i,j] / np.linalg.norm(los[i,j])\n",
    "u2 = look_enu / np.linalg.norm(look_enu)\n",
    "angle = np.arccos(u1 @ u2)\n",
    "print(\"angular difference (deg) =\", np.rad2deg(angle))"
   ]
  },
  {
   "cell_type": "markdown",
   "id": "da573500-b667-4972-b325-547dd4d6eba9",
   "metadata": {},
   "source": [
    "## Reconcile\n",
    "\n",
    "The two implementations produce the same look direction to within a small fraction of a degree.  They would be practically equivalent for most applications that want to project a 3D field onto the radar line of sight.\n",
    "\n",
    "There is a difference of a few meters in the along-track direction.  This would be relevant for applications that would like to resample between map and radar coordinates.  The offset is due to the fact that the Doppler depends on the target height, but the UAVSAR processor performs a reskew operation using a constant reference height.  The error therefore depends on this sensitivity and the difference between the actual target height (DEM) and the height assumed for reskew.  The `make_geolook` program accounts for this distortion, and a formula is provided below."
   ]
  },
  {
   "cell_type": "code",
   "execution_count": 20,
   "id": "f1a9ba18-9c06-4f4a-9bf9-af502c07b5d7",
   "metadata": {},
   "outputs": [
    {
     "name": "stdout",
     "output_type": "stream",
     "text": [
      "DEM height (m) = 1276.143\n",
      "reskew reference height (m) = 485.246273\n",
      "difference (m) = -790.8966713359375\n"
     ]
    }
   ],
   "source": [
    "dh = ht - dem[i,j]\n",
    "print(\"DEM height (m) =\", dem[i,j])\n",
    "print(\"reskew reference height (m) =\", ht)\n",
    "print(\"difference (m) =\", dh)"
   ]
  },
  {
   "cell_type": "code",
   "execution_count": 21,
   "id": "d186dfc8-f1e9-49e1-ad78-29c15cd40e7f",
   "metadata": {},
   "outputs": [
    {
     "data": {
      "text/plain": [
       "15.043665031909626"
      ]
     },
     "execution_count": 21,
     "metadata": {},
     "output_type": "execute_result"
    }
   ],
   "source": [
    "def dls_dht(alt, ht, yaw, pitch, esa, ρ, a=6378e3):\n",
    "    \"\"\"Derivative of s-component of look vector with respect to terrain height.\n",
    "    \"\"\"\n",
    "    rp = a + alt\n",
    "    rt = a + ht\n",
    "    cosθ = (rp**2 + ρ**2 - rt**2) / (2 * rp * ρ)\n",
    "    cosβ = (cosθ + sin(pitch) * sin(esa)) / (cos(pitch) * cos(esa))\n",
    "    sinβ = sqrt(1 - cosβ**2)  # left looking\n",
    "    x1 = (sin(yaw) * cosβ - sin(pitch) * cos(yaw) * sinβ) / (cos(pitch) * sinβ)\n",
    "    return x1 * (rt / rp) / ρ\n",
    "\n",
    "a = radar.coord.radius\n",
    "ds = dls_dht(alt, ht, yaw, pitch, esa, ρ, a=a) * dh * ρ\n",
    "ds"
   ]
  },
  {
   "cell_type": "markdown",
   "id": "984e4856-17df-4310-9795-b93bc17a6b2b",
   "metadata": {},
   "source": [
    "---\n",
    "© 2021 California Institute of Technology. Government sponsorship acknowledged.\n",
    "\n",
    "The research was carried out at the Jet Propulsion Laboratory, California Institute of Technology, under a contract with the National Aeronautics and Space Administration (80NM0018D0004)"
   ]
  }
 ],
 "metadata": {
  "kernelspec": {
   "display_name": "Python 3",
   "language": "python",
   "name": "python3"
  },
  "language_info": {
   "codemirror_mode": {
    "name": "ipython",
    "version": 3
   },
   "file_extension": ".py",
   "mimetype": "text/x-python",
   "name": "python",
   "nbconvert_exporter": "python",
   "pygments_lexer": "ipython3",
   "version": "3.9.6"
  }
 },
 "nbformat": 4,
 "nbformat_minor": 5
}
