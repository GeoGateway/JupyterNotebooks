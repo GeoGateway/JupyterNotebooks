{
 "cells": [
  {
   "cell_type": "markdown",
   "metadata": {},
   "source": [
    "# GPS Interpolation and Mapping \n",
    "\n",
    "In this notebook, we will create a map showing motion over a speficied area. In order to accomplish this we will:\n",
    "\n",
    "1. Load the data table from the GNSS tab of geo-gateway.org\n",
    "\n",
    "2. Import this data into a pandas dataframe \n",
    "\n",
    "3. Use an Ordinary Kriging interpolation to get motion values across a regular grid\n",
    "\n",
    "4. Plot the interpolated motions on a map \n",
    "\n",
    "\n"
   ]
  },
  {
   "cell_type": "code",
   "execution_count": 1,
   "metadata": {},
   "outputs": [],
   "source": [
    "from create_map import create_map\n",
    "from gps_interpolation import interpolate, create_grid, reshape_and_create_df\n",
    "from load_gps_data import load_gps_data\n",
    "import ipywidgets as widgets\n",
    "import math"
   ]
  },
  {
   "cell_type": "markdown",
   "metadata": {},
   "source": [
    "### Loading raw data and Importing data into Pandas data frame##\n",
    "- This data is loaded with the load_gps_data module created specifically for the type of table that is output by geo-gateway\n",
    "- Pandas is a python library that creates tables similar to a Microsoft Excel spreadsheet. If you would like to see what the data frame looks like, feel free to type (without quotes),  \"gps_df.head()\" for a peak at the Dataframe.\n",
    "- To adapt this to a table you retrieved on geo-gateway, simply change the file name. Be sure it is in the same directory as this notebook. "
   ]
  },
  {
   "cell_type": "code",
   "execution_count": 2,
   "metadata": {
    "code_folding": []
   },
   "outputs": [
    {
     "data": {
      "application/vnd.jupyter.widget-view+json": {
       "model_id": "2359d1d117804c7b8d63300315b21d52",
       "version_major": 2,
       "version_minor": 0
      },
      "text/plain": [
       "VBox(children=(FileUpload(value={}, description='Upload'), Button(description='Press to upload', style=ButtonS…"
      ]
     },
     "metadata": {},
     "output_type": "display_data"
    }
   ],
   "source": [
    "uploader = widgets.FileUpload()\n",
    "uploader\n",
    "upload_button = widgets.Button(description='Press to upload')\n",
    "info = widgets.Label()\n",
    "\n",
    "def on_upload_click(change):\n",
    "    with open(\"input_gps.txt\", \"w+b\") as inpt:\n",
    "        inpt.write(uploader.data[-1])\n",
    "    global gps_df, deltas\n",
    "    gps_df = load_gps_data(\"input_gps.txt\")\n",
    "    deltas = gps_df[['Delta E', 'Delta N', 'Delta V']]\n",
    "    info.value  = 'uploaded!'\n",
    "\n",
    "\n",
    "upload_button.on_click(on_upload_click)\n",
    "VBox3 = widgets.VBox([uploader, upload_button, info])\n",
    "VBox3"
   ]
  },
  {
   "cell_type": "markdown",
   "metadata": {},
   "source": [
    "### Interpolating over a regular grid and storing in a new data frame ###\n",
    "- Here we use an Ordinary Kriging interpolatin to get motion values for each component of motion.\n",
    "- Different Variogram Models may be selected and give different results. After you run the whole notebook, come back and try a different variogram model. You may choose from the following: linear, gaussian, power, exponential, hole-effect, spherical. To change the model, select the model you want and then press the Do the interpolation button. \n",
    "- The maps may be slow to load with very low grid spacing. Typically, a value of .01 degree grid spacing will be sufficient. If you find the maps later in the notebook become slow, try raising the grid spacing. \n"
   ]
  },
  {
   "cell_type": "code",
   "execution_count": 3,
   "metadata": {
    "code_folding": []
   },
   "outputs": [],
   "source": [
    "interp_button = widgets.Button(description='Do the interpolation')\n",
    "grid_space = widgets.FloatSlider(value=0.018,\n",
    "                                 min=0.005,\n",
    "                                 max=.1,\n",
    "                                 step=.0005,\n",
    "                                 description='Grid Spacing: ',\n",
    "                                 disabled=False,\n",
    "                                 continous_update=True,\n",
    "                                 readout=True,\n",
    "                                 readout_format='.4f',\n",
    "                                 default=.018)\n",
    "interpolations = ['linear', 'gaussian', 'power',\n",
    "                  'exponential', 'hole-effect', 'spherical']\n",
    "interpolation_type = widgets.RadioButtons(options=interpolations,\n",
    "                                          description=\"Interpolation\",\n",
    "                                          default='linear')\n",
    "azimuth = widgets.IntSlider(value=-5, \n",
    "                           min =-180,\n",
    "                           max=180,\n",
    "                           step=5,\n",
    "                           description ='Azimuth', \n",
    "                           disabled=False,\n",
    "                           readout=True,\n",
    "                           default=-5)\n",
    "elevation=widgets.IntSlider(value=60, \n",
    "                           min=0,\n",
    "                           max=180,\n",
    "                           step=1,\n",
    "                           description='Elevation Angle', \n",
    "                           disabled = False,\n",
    "                           readout=True,\n",
    "                           default=60)\n"
   ]
  },
  {
   "cell_type": "code",
   "execution_count": 4,
   "metadata": {
    "code_folding": [],
    "scrolled": true
   },
   "outputs": [
    {
     "data": {
      "application/vnd.jupyter.widget-view+json": {
       "model_id": "cf2b988cfdb34635b8661d7626fc37af",
       "version_major": 2,
       "version_minor": 0
      },
      "text/plain": [
       "VBox(children=(FloatSlider(value=0.018, description='Grid Spacing: ', max=0.1, min=0.005, readout_format='.4f'…"
      ]
     },
     "metadata": {},
     "output_type": "display_data"
    }
   ],
   "source": [
    "def on_click_interpolate(change):\n",
    "    global interpolated_values\n",
    "    interpolated_values = interpolate(\n",
    "        gps_df['Lon'],\n",
    "        gps_df['Lat'],\n",
    "        grid_spacing=grid_space.value,\n",
    "        model=interpolation_type.value,\n",
    "        **deltas)\n",
    "    losd=to_los_disp(interpolated_values['Delta E'], interpolated_values['Delta N'], interpolated_values['Delta V'], elevation=elevation.value, azimuth=azimuth.value)\n",
    "    interpolated_values['LOS Displacement'] = losd\n",
    "\n",
    "\n",
    "\n",
    "def to_los_disp(ux,uy,uv,azimuth=-5, elevation=60):\n",
    "    g = [math.sin(azimuth)*math.cos(elevation),math.cos(azimuth)*math.cos(elevation),math.sin(elevation)]\n",
    "    losd = (g[0]*ux+ g[1]*uy+ g[2]*uv)/5.0\n",
    "    return losd\n",
    "interp_button.on_click(on_click_interpolate)\n",
    "VBox1 = widgets.VBox([grid_space, interpolation_type, interp_button, azimuth, elevation])\n",
    "VBox1\n"
   ]
  },
  {
   "cell_type": "markdown",
   "metadata": {},
   "source": [
    "### Mapping the data ##\n",
    "- Ok now lets throw it on a map! Select the Component you would like to view from the drop down and press Run Interact.\n",
    "- Change the component of motion in the dropdown menu. It has to redraw the map every time you do this, so be a little patient\n",
    "- The second map shows the raw values before the interpolation\n",
    "- You can take the map to fullscreen, hide the minimap, turn on or off the faults and interpolation\n"
   ]
  },
  {
   "cell_type": "code",
   "execution_count": 5,
   "metadata": {
    "code_folding": [
     0,
     12
    ]
   },
   "outputs": [
    {
     "data": {
      "application/vnd.jupyter.widget-view+json": {
       "model_id": "254f773667e6458f86660c3ec083cdee",
       "version_major": 2,
       "version_minor": 0
      },
      "text/plain": [
       "VBox(children=(RadioButtons(description='Component:', layout=Layout(width='max-content'), options=('Delta N', …"
      ]
     },
     "metadata": {},
     "output_type": "display_data"
    }
   ],
   "source": [
    "motion_menu = widgets.RadioButtons(\n",
    "    options=['Delta N', 'Delta V', 'Delta E', 'LOS Displacement'],\n",
    "    value='Delta N',\n",
    "    description='Component:',\n",
    "    continuous_update=True,\n",
    "    layout={'width': 'max-content'}\n",
    ")\n",
    "\n",
    "Map_button = widgets.Button(description='Map values')\n",
    "map_output = widgets.Output()\n",
    "\n",
    "\n",
    "def on_click_map(change):\n",
    "    map_output.clear_output()\n",
    "    my_map = create_map(df=interpolated_values,\n",
    "                        lon_col='Lon',\n",
    "                        lat_col='Lat',\n",
    "                        data_col=motion_menu.value)\n",
    "    with map_output:\n",
    "        display(my_map)\n",
    "\n",
    "\n",
    "Map_button.on_click(on_click_map)\n",
    "VBox2 = widgets.VBox([motion_menu, Map_button, map_output])\n",
    "VBox2"
   ]
  },
  {
   "cell_type": "markdown",
   "metadata": {},
   "source": []
  },
  {
   "cell_type": "code",
   "execution_count": null,
   "metadata": {
    "code_folding": []
   },
   "outputs": [],
   "source": []
  },
  {
   "cell_type": "code",
   "execution_count": null,
   "metadata": {},
   "outputs": [],
   "source": []
  },
  {
   "cell_type": "code",
   "execution_count": null,
   "metadata": {},
   "outputs": [],
   "source": []
  },
  {
   "cell_type": "code",
   "execution_count": null,
   "metadata": {},
   "outputs": [],
   "source": []
  },
  {
   "cell_type": "code",
   "execution_count": null,
   "metadata": {},
   "outputs": [],
   "source": []
  },
  {
   "cell_type": "code",
   "execution_count": null,
   "metadata": {},
   "outputs": [],
   "source": []
  }
 ],
 "metadata": {
  "kernelspec": {
   "display_name": "Python 3",
   "language": "python",
   "name": "python3"
  },
  "language_info": {
   "codemirror_mode": {
    "name": "ipython",
    "version": 3
   },
   "file_extension": ".py",
   "mimetype": "text/x-python",
   "name": "python",
   "nbconvert_exporter": "python",
   "pygments_lexer": "ipython3",
   "version": "3.7.6"
  }
 },
 "nbformat": 4,
 "nbformat_minor": 4
}
