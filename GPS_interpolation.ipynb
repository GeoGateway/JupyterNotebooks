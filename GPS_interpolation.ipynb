{
 "cells": [
  {
   "cell_type": "markdown",
   "metadata": {},
   "source": [
    "# GPS Interpolation and Mapping \n",
    "\n",
    "In this notebook, we will create a map showing motion over a speficied area. In order to accomplish this we will:\n",
    "\n",
    "1. Load the data table from the GNSS tab of geo-gateway.org\n",
    "\n",
    "2. Import this data into a pandas dataframe \n",
    "\n",
    "3. Use an Ordinary Kriging interpolation to get motion values across a regular grid\n",
    "\n",
    "4. Plot the interpolated motions on a map \n",
    "\n",
    "\n"
   ]
  },
  {
   "cell_type": "code",
   "execution_count": 4,
   "metadata": {},
   "outputs": [],
   "source": [
    "from create_map import create_map\n",
    "from gps_interpolation import interpolate, create_grid, reshape_and_create_df\n",
    "from load_gps_data import load_gps_data\n",
    "import ipywidgets as widgets"
   ]
  },
  {
   "cell_type": "markdown",
   "metadata": {},
   "source": [
    "### Loading raw data and Importing data into Pandas data frame##\n",
    "- This data is loaded with the load_gps_data module created specifically for the type of table that is output by geo-gateway\n",
    "- Pandas is a python library that creates tables similar to a Microsoft Excel spreadsheet. If you would like to see what the data frame looks like, feel free to type (without quotes),  \"gps_df.head()\" for a peak at the Dataframe.\n",
    "- To adapt this to a table you retrieved on geo-gateway, simply change the file name. Be sure it is in the same directory as this notebook. "
   ]
  },
  {
   "cell_type": "code",
   "execution_count": 5,
   "metadata": {},
   "outputs": [],
   "source": [
    "file = 'Salton_sea_velocity.txt'\n",
    "gps_df = load_gps_data(file)\n",
    "deltas = gps_df[['Delta E', 'Delta N', 'Delta V']]"
   ]
  },
  {
   "cell_type": "markdown",
   "metadata": {},
   "source": [
    "### Interpolating over a regular grid and storing in a new data frame ###\n",
    "- Here we use an Ordinary Kriging interpolatin to get motion values for each component of motion.\n",
    "- Different Variogram Models may be selected and give different results. After you run the whole notebook, come back and try a different variogram model. You may choose from the following: linear, gaussian, power, exponential, hole-effect, spherical. To change the model, simply replace 'linear' with 'Your model choice' below. Don't forget the single quotes!\n",
    "- The maps may be slow to load with very low grid spacing. Typically, a value of .01 degree grid spacing will be sufficient. If you find the maps later in the notebook become slow, try raising the grid spacing. \n"
   ]
  },
  {
   "cell_type": "code",
   "execution_count": 6,
   "metadata": {
    "scrolled": true
   },
   "outputs": [],
   "source": [
    "interpolated_values = interpolate(\n",
    "    gps_df['Lon'], gps_df['Lat'], grid_spacing=.01, model='gaussian', **deltas)"
   ]
  },
  {
   "cell_type": "markdown",
   "metadata": {},
   "source": [
    "### Mapping the data ##\n",
    "- Ok now lets throw it on a map! Select the Component you would like to view from the drop down and press Run Interact.\n",
    "- Change the component of motion in the dropdown menu. It has to redraw the map every time you do this, so be a little patient\n",
    "- The second map shows the raw values before the interpolation\n",
    "- You can take the map to fullscreen, hide the minimap, turn on or off the faults and interpolation\n"
   ]
  },
  {
   "cell_type": "code",
   "execution_count": 7,
   "metadata": {
    "code_folding": [
     0,
     6
    ]
   },
   "outputs": [
    {
     "data": {
      "application/vnd.jupyter.widget-view+json": {
       "model_id": "e0767a6bbd3c4fb6b749d24d46d0b7cd",
       "version_major": 2,
       "version_minor": 0
      },
      "text/plain": [
       "interactive(children=(Dropdown(description='Component:', layout=Layout(width='max-content'), options=('Delta N…"
      ]
     },
     "metadata": {},
     "output_type": "display_data"
    },
    {
     "data": {
      "text/plain": [
       "<function create_map.create_map(df, lon_col='Lon', lat_col='Lat', data_col='Delta N')>"
      ]
     },
     "execution_count": 7,
     "metadata": {},
     "output_type": "execute_result"
    }
   ],
   "source": [
    "motion_menu = widgets.Dropdown(\n",
    "    options=['Delta N', 'Delta V', 'Delta E'],\n",
    "    value='Delta N',\n",
    "    description='Component:',\n",
    "    layout={'width': 'max-content'}\n",
    ")\n",
    "widgets.interact_manual(create_map, df=widgets.fixed(interpolated_values),\n",
    "                        lon_col=widgets.fixed('Lon'),\n",
    "                        lat_col=widgets.fixed('Lat'),\n",
    "                        data_col=motion_menu)"
   ]
  },
  {
   "cell_type": "markdown",
   "metadata": {},
   "source": [
    "##### GPS stations before interpolation"
   ]
  },
  {
   "cell_type": "code",
   "execution_count": 8,
   "metadata": {},
   "outputs": [
    {
     "data": {
      "application/vnd.jupyter.widget-view+json": {
       "model_id": "c88148cf244e4be8819efba477df40c5",
       "version_major": 2,
       "version_minor": 0
      },
      "text/plain": [
       "interactive(children=(Dropdown(description='Component:', layout=Layout(width='max-content'), options=('Delta N…"
      ]
     },
     "metadata": {},
     "output_type": "display_data"
    },
    {
     "data": {
      "text/plain": [
       "<function create_map.create_map(df, lon_col='Lon', lat_col='Lat', data_col='Delta N')>"
      ]
     },
     "execution_count": 8,
     "metadata": {},
     "output_type": "execute_result"
    }
   ],
   "source": [
    "widgets.interact_manual(create_map, df=widgets.fixed(gps_df),\n",
    "                        lon_col=widgets.fixed('Lon'),\n",
    "                        lat_col=widgets.fixed('Lat'),\n",
    "                        data_col=motion_menu)"
   ]
  },
  {
   "cell_type": "code",
   "execution_count": null,
   "metadata": {},
   "outputs": [],
   "source": []
  },
  {
   "cell_type": "code",
   "execution_count": null,
   "metadata": {},
   "outputs": [],
   "source": []
  },
  {
   "cell_type": "code",
   "execution_count": null,
   "metadata": {},
   "outputs": [],
   "source": []
  },
  {
   "cell_type": "code",
   "execution_count": null,
   "metadata": {},
   "outputs": [],
   "source": []
  },
  {
   "cell_type": "code",
   "execution_count": null,
   "metadata": {},
   "outputs": [],
   "source": []
  }
 ],
 "metadata": {
  "kernelspec": {
   "display_name": "Python 3",
   "language": "python",
   "name": "python3"
  },
  "language_info": {
   "codemirror_mode": {
    "name": "ipython",
    "version": 3
   },
   "file_extension": ".py",
   "mimetype": "text/x-python",
   "name": "python",
   "nbconvert_exporter": "python",
   "pygments_lexer": "ipython3",
   "version": "3.7.6"
  }
 },
 "nbformat": 4,
 "nbformat_minor": 4
}
